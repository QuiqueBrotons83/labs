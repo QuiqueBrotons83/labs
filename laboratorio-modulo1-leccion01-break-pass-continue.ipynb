{
 "cells": [
  {
   "cell_type": "markdown",
   "metadata": {},
   "source": [
    "\n",
    "<div style=\"text-align: center;\">\n",
    "  <img src=\"https://github.com/Hack-io-Data/Imagenes/blob/main/01-LogosHackio/logo_celeste@4x.png?raw=true\" alt=\"esquema\" />\n",
    "</div>\n"
   ]
  },
  {
   "cell_type": "markdown",
   "metadata": {},
   "source": [
    "# Laboratorio de Python: break(), pass(), continue()"
   ]
  },
  {
   "cell_type": "markdown",
   "metadata": {},
   "source": [
    "## Ejercicio 1: Validación de datos numéricos. \n",
    "\n",
    "Escribe un bucle que lea una lista de números y detenga la ejecución si encuentra un valor negativo. Muestra un mensaje indicando el número negativo encontrado.\n"
   ]
  },
  {
   "cell_type": "code",
   "execution_count": 28,
   "metadata": {},
   "outputs": [
    {
     "name": "stdout",
     "output_type": "stream",
     "text": [
      "5\n",
      "15\n",
      "2\n",
      "Número negativo encontrado: -1\n"
     ]
    }
   ],
   "source": [
    "numeros_lista = [5, 15, 2, -1, 12]\n",
    "def validar_numeros(numeros_lista):\n",
    "    for numero in numeros_lista:\n",
    "        if numero < 0:\n",
    "            print(f\"Número negativo encontrado: {numero}\")\n",
    "            break \n",
    "        else:\n",
    "            print(numero)\n",
    "validar_numeros(numeros_lista)"
   ]
  },
  {
   "cell_type": "markdown",
   "metadata": {},
   "source": [
    "\n",
    "## Ejercicio 2: Filtrado de datos\n",
    "\n",
    "Escribe un bucle que imprima los números de una lista, pero que omita los números pares.\n"
   ]
  },
  {
   "cell_type": "code",
   "execution_count": 29,
   "metadata": {},
   "outputs": [
    {
     "name": "stdout",
     "output_type": "stream",
     "text": [
      "5\n",
      "15\n",
      "1\n"
     ]
    }
   ],
   "source": [
    "numeros_lista = [5, 15, 2, 1, 12]\n",
    "\n",
    "def filtrar_impares(numeros_lista):\n",
    "    for numero in numeros_lista:\n",
    "        if numero % 2 == 0:  \n",
    "            continue  \n",
    "        print(numero)\n",
    "filtrar_impares(numeros_lista) \n"
   ]
  },
  {
   "cell_type": "markdown",
   "metadata": {},
   "source": [
    "## Ejercicio 3: Búsqueda de un valor\n",
    "\n",
    "Escribe un programa que busque un valor específico en una lista y detenga la búsqueda cuando lo encuentre. Si se encuentra, muestra un mensaje.\n"
   ]
  },
  {
   "cell_type": "code",
   "execution_count": 30,
   "metadata": {},
   "outputs": [
    {
     "name": "stdout",
     "output_type": "stream",
     "text": [
      "5\n",
      "15\n",
      "2\n",
      "valor encontrado: 12\n"
     ]
    }
   ],
   "source": [
    "numeros_lista = [5, 15, 2, 12,1]\n",
    "valor_buscado = 12\n",
    "\n",
    "def encontrar_valor(numeros_lista, valor_buscado):\n",
    "    for valor in numeros_lista:\n",
    "        if valor == valor_buscado:\n",
    "            print(f\"valor encontrado: {valor}\")\n",
    "            break\n",
    "        else:\n",
    "            print(valor)\n",
    "            \n",
    "encontrar_valor(numeros_lista,valor_buscado)"
   ]
  },
  {
   "cell_type": "markdown",
   "metadata": {},
   "source": [
    "## Ejercicio 4: Estructura de código incompleto\n",
    "\n",
    "Define una función que aún no tenga lógica implementada, pero que se pueda ejecutar sin errores utilizando `pass`."
   ]
  },
  {
   "cell_type": "code",
   "execution_count": 31,
   "metadata": {},
   "outputs": [
    {
     "data": {
      "text/plain": [
       "<function __main__.funcion_incompleta()>"
      ]
     },
     "execution_count": 31,
     "metadata": {},
     "output_type": "execute_result"
    }
   ],
   "source": [
    "def funcion_incompleta():\n",
    "    pass\n",
    "funcion_incompleta\n"
   ]
  },
  {
   "cell_type": "markdown",
   "metadata": {},
   "source": [
    "## Ejercicio 5: Validación condicional\n",
    "\n",
    "Escribe un bucle que verifique una lista de nombres. Si encuentra un nombre vacío (cadena vacía), salta esa iteración y continúa con los demás nombres.\n"
   ]
  },
  {
   "cell_type": "code",
   "execution_count": 32,
   "metadata": {},
   "outputs": [
    {
     "name": "stdout",
     "output_type": "stream",
     "text": [
      "Nombre válido: Quique\n",
      "Nombre válido: Gonzalo\n",
      "Nombre válido: Javi\n",
      "Nombre válido:  \n",
      "Nombre válido: Raquel\n"
     ]
    }
   ],
   "source": [
    "lista_nombres = [\"Quique\", \"Gonzalo\", \"Javi\",\" \", \"Raquel\"]\n",
    "for nombre in lista_nombres:\n",
    "    if nombre == \"\":\n",
    "        continue  \n",
    "    print(f\"Nombre válido: {nombre}\")\n",
    "            \n"
   ]
  },
  {
   "cell_type": "markdown",
   "metadata": {},
   "source": [
    "## Ejercicio 6: Búsqueda de claves en un diccionario\n",
    "\n",
    "Escribe un programa que recorra un diccionario y detenga la búsqueda si encuentra una clave específica pasada por el usuario.\n"
   ]
  },
  {
   "cell_type": "code",
   "execution_count": 44,
   "metadata": {},
   "outputs": [
    {
     "name": "stdout",
     "output_type": "stream",
     "text": [
      "Clave no encontrada.\n"
     ]
    }
   ],
   "source": [
    "diccionario = {\"Nombre\":\"Quique\",\"Apellidos\":\"Brotons\",\"Ganas\":\"muchas\",\"Edad\":41,}\n",
    "clave_buscada =input(\"introduce una clave:\")\n",
    "for clave in diccionario:\n",
    "    if clave == clave_buscada:\n",
    "        print(f\"Henos encontrado la clave buscada: {clave_buscada}\")\n",
    "        break\n",
    "else:\n",
    "    print(\"Clave no encontrada.\")            \n",
    "            \n"
   ]
  },
  {
   "cell_type": "markdown",
   "metadata": {},
   "source": [
    "## Ejercicio 7: Bucle con múltiples excepciones\n",
    "\n",
    "Escribe un bucle que procese una lista de operaciones matemáticas, omitiendo las operaciones que intenten dividir por cero.\n"
   ]
  },
  {
   "cell_type": "code",
   "execution_count": 53,
   "metadata": {},
   "outputs": [
    {
     "name": "stdout",
     "output_type": "stream",
     "text": [
      "Resultado de 10 / 2 = 5.0\n",
      "Resultado de 5 / 1 = 5.0\n",
      "No quiero dividir entre 0: 3 / 0\n",
      "Resultado de 25 / 5 = 5.0\n"
     ]
    }
   ],
   "source": [
    "operaciones = [(10, 2), (5, 1), (3, 0),(25, 5)]\n",
    "for dividir, division in operaciones:\n",
    "    try:\n",
    "        resultado = dividir / division\n",
    "    except ZeroDivisionError:\n",
    "        print(f\"No quiero dividir entre 0: {dividir} / {division}\")\n",
    "    else:\n",
    "        print(f\"Resultado de {dividir} / {division} = {resultado}\")\n"
   ]
  },
  {
   "cell_type": "markdown",
   "metadata": {},
   "source": [
    "## Ejercicio 8: Búsqueda en una lista anidada\n",
    "\n",
    "Escribe un programa que recorra una lista de listas y detenga la búsqueda cuando encuentre un valor mayor a 50.\n"
   ]
  },
  {
   "cell_type": "code",
   "execution_count": 57,
   "metadata": {},
   "outputs": [
    {
     "name": "stdout",
     "output_type": "stream",
     "text": [
      "Valor encontrado: 51\n"
     ]
    }
   ],
   "source": [
    "listas_anidadas = [[5, 12, 45], [49, 32, 51],[44, 1, 2]]\n",
    "\n",
    "for lista_listas in listas_anidadas:\n",
    "    for valor in lista_listas:\n",
    "        if valor > 50:\n",
    "            print(f\"Valor encontrado: {valor}\")\n",
    "            break  \n",
    "    else:\n",
    "        continue\n",
    "    break\n",
    "else:\n",
    "    print(\"No se encontró ningún valor mayor a 50.\")\n"
   ]
  },
  {
   "cell_type": "markdown",
   "metadata": {},
   "source": [
    "## Ejercicio 9: Evaluación de series temporales\n",
    "\n",
    "Escribe un programa que recorra una lista de datos de series temporales y se detenga si encuentra un valor atípico (mayor a 100).\n"
   ]
  },
  {
   "cell_type": "code",
   "execution_count": 58,
   "metadata": {},
   "outputs": [
    {
     "name": "stdout",
     "output_type": "stream",
     "text": [
      "Valor atípico encontrado: 101\n"
     ]
    }
   ],
   "source": [
    "series_temporales = [5, 35, 44, 99, 101, 44, 96]\n",
    "\n",
    "for valor in series_temporales:\n",
    "    if valor > 100:\n",
    "        print(f\"Valor atípico encontrado: {valor}\")\n",
    "        break  \n",
    "else:\n",
    "    print(\"No se encontraron valores atípicos.\")\n"
   ]
  },
  {
   "cell_type": "markdown",
   "metadata": {},
   "source": [
    "## Ejercicio 10: Iteración con valores faltantes\n",
    "\n",
    "Crea un bucle que recorra una lista de datos de ventas y salte los valores faltantes representados por `None`."
   ]
  },
  {
   "cell_type": "code",
   "execution_count": 2,
   "metadata": {},
   "outputs": [
    {
     "name": "stdout",
     "output_type": "stream",
     "text": [
      "Lista ventas: 299\n",
      "Lista ventas: 100\n",
      "Lista ventas: 15\n",
      "Lista ventas: 64\n",
      "Lista ventas: 105\n"
     ]
    }
   ],
   "source": [
    "lista_ventas = [299, 100, None, 15, None, 64, 105]\n",
    "\n",
    "for venta in lista_ventas:\n",
    "    if venta is None:\n",
    "        continue  \n",
    "    print(f\"Lista ventas: {venta}\")\n"
   ]
  },
  {
   "cell_type": "markdown",
   "metadata": {},
   "source": [
    "## Ejercicio 11: Control de flujo en bucles anidados\n",
    "\n",
    "Escribe un bucle que recorra la matriz dada y se detenga si se encuentra un número negativo, mostrando su posición.\n",
    "\n"
   ]
  },
  {
   "cell_type": "code",
   "execution_count": 6,
   "metadata": {},
   "outputs": [
    {
     "name": "stdout",
     "output_type": "stream",
     "text": [
      "Número negativo encontrado en la posición (1, 2): -7\n"
     ]
    }
   ],
   "source": [
    "matriz = [[24, 15, 9],\n",
    "          [17, 21, -7],\n",
    "          [8, 16, 20]]\n",
    "encontrado = False\n",
    "for numero, fila in enumerate(matriz):  \n",
    "    for negativo, valor in enumerate(fila):  \n",
    "        if valor < 0:  \n",
    "            print(f\"Número negativo encontrado en la posición ({numero}, {negativo}): {valor}\")\n",
    "            encontrado = True\n",
    "            break  \n",
    "    if encontrado:\n",
    "     break"
   ]
  }
 ],
 "metadata": {
  "kernelspec": {
   "display_name": "Python 3",
   "language": "python",
   "name": "python3"
  },
  "language_info": {
   "codemirror_mode": {
    "name": "ipython",
    "version": 3
   },
   "file_extension": ".py",
   "mimetype": "text/x-python",
   "name": "python",
   "nbconvert_exporter": "python",
   "pygments_lexer": "ipython3",
   "version": "3.11.4"
  }
 },
 "nbformat": 4,
 "nbformat_minor": 2
}
